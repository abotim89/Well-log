
{
 "cells": [
  {
   "cell_type": "code",
   "execution_count": null,
   "id": "8f5a7c66",
   "metadata": {},
   "outputs": [],
   "source": [
    "import lasio\n\nimport pandas as pd\n\nimport h5py\n\nfrom ai_log.io import load_las, save_h5\n\nfrom ai_log.qc import qc_basic\n\n\n# 1- نقرأ الملف\n\nlas = lasio.read("../data/raw/15_9-F-1_C_Final_LAS.las")\n\ndf, meta = load_las(las)\n\n\n# 2- نقوم بـ QC\n\ndf_clean = qc_basic(df, meta)\n\n\n# 3- نحفظ النتيجة\n\nsave_h5(df_clean, meta, "../data/processed/15_9-F-1C_clean.h5")"
   ]
  }
 ],
 "metadata": {
  "kernelspec": {
   "display_name": "Python 3",
   "language": "python",
   "name": "python3"
  },
  "language_info": {
   "codemirror_mode": {
    "name": "ipython",
    "version": 3
   },
   "file_extension": ".py",
   "mimetype": "text/x-python",
   "name": "python",
   "nbconvert_exporter": "python",
   "pygments_lexer": "ipython3",
   "version": "3.9.7"
  }
 },
 "nbformat": 4,
 "nbformat_minor": 5
}
